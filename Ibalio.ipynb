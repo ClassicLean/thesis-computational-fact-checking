{
 "cells": [
  {
   "cell_type": "markdown",
   "metadata": {},
   "source": [
    "## Emotions Dataset"
   ]
  },
  {
   "cell_type": "markdown",
   "metadata": {},
   "source": [
    "##### Load the Emotions dataset from the .csv file"
   ]
  },
  {
   "cell_type": "code",
   "execution_count": 2,
   "metadata": {},
   "outputs": [],
   "source": [
    "import pandas as pd\n",
    "\n",
    "emotions_file ='emotions.csv'\n",
    "emotions = pd.read_csv(emotions_file)\n",
    "emotions.columns\n",
    "\n",
    "def warn(*args, **kwargs):\n",
    "    pass\n",
    "import warnings\n",
    "warnings.warn = warn"
   ]
  },
  {
   "cell_type": "markdown",
   "metadata": {},
   "source": [
    "\n",
    "# 1. Binary Classification\n",
    "\n",
    "1. Train a binary classifier (i.e., Stochastic Gradient Descent or Logistic Regression) of a particular emotion using any of the algorithms that are applicable. \n",
    "2. Use the following cross-validation methods:\n",
    "        a. Standard cross-validation\n",
    "        b. Stratified cross-validation\n",
    "        c. Shuffle-split cross-validation\n",
    "3. Show the confusion matrix table and graph.\n",
    "4. Show the following graphs: \n",
    "        a. precision vs. recall \n",
    "        b. precision and recall as a function of threshold\n",
    "5. Show the ROC curve\n",
    "6. Train another classifier to compare the ROC curve and ROC AUC score of the previous classifier with. Show the ROC AUC scores of both classifiers."
   ]
  },
  {
   "cell_type": "code",
   "execution_count": 3,
   "metadata": {},
   "outputs": [
    {
     "data": {
      "text/html": [
       "<div>\n",
       "<style scoped>\n",
       "    .dataframe tbody tr th:only-of-type {\n",
       "        vertical-align: middle;\n",
       "    }\n",
       "\n",
       "    .dataframe tbody tr th {\n",
       "        vertical-align: top;\n",
       "    }\n",
       "\n",
       "    .dataframe thead th {\n",
       "        text-align: right;\n",
       "    }\n",
       "</style>\n",
       "<table border=\"1\" class=\"dataframe\">\n",
       "  <thead>\n",
       "    <tr style=\"text-align: right;\">\n",
       "      <th></th>\n",
       "      <th>sampleNumber</th>\n",
       "      <th>pitchMin</th>\n",
       "      <th>pitchMax</th>\n",
       "      <th>pitchAve</th>\n",
       "      <th>energy</th>\n",
       "      <th>duration</th>\n",
       "      <th>f0</th>\n",
       "      <th>f1</th>\n",
       "      <th>f2</th>\n",
       "      <th>emotion</th>\n",
       "    </tr>\n",
       "  </thead>\n",
       "  <tbody>\n",
       "    <tr>\n",
       "      <th>0</th>\n",
       "      <td>1</td>\n",
       "      <td>173.212996</td>\n",
       "      <td>445.069307</td>\n",
       "      <td>259.748404</td>\n",
       "      <td>0.035414</td>\n",
       "      <td>1.825438</td>\n",
       "      <td>1879.317977</td>\n",
       "      <td>4268.143612</td>\n",
       "      <td>0.000000</td>\n",
       "      <td>Happy</td>\n",
       "    </tr>\n",
       "    <tr>\n",
       "      <th>1</th>\n",
       "      <td>2</td>\n",
       "      <td>119.353521</td>\n",
       "      <td>238.914405</td>\n",
       "      <td>183.543182</td>\n",
       "      <td>0.043517</td>\n",
       "      <td>1.738500</td>\n",
       "      <td>900.280890</td>\n",
       "      <td>2731.501674</td>\n",
       "      <td>4608.552306</td>\n",
       "      <td>Happy</td>\n",
       "    </tr>\n",
       "    <tr>\n",
       "      <th>2</th>\n",
       "      <td>3</td>\n",
       "      <td>170.807263</td>\n",
       "      <td>342.086479</td>\n",
       "      <td>295.447784</td>\n",
       "      <td>0.022256</td>\n",
       "      <td>1.477688</td>\n",
       "      <td>1525.397375</td>\n",
       "      <td>2802.672926</td>\n",
       "      <td>0.000000</td>\n",
       "      <td>Happy</td>\n",
       "    </tr>\n",
       "    <tr>\n",
       "      <th>3</th>\n",
       "      <td>4</td>\n",
       "      <td>211.864117</td>\n",
       "      <td>525.138903</td>\n",
       "      <td>286.691254</td>\n",
       "      <td>0.045537</td>\n",
       "      <td>1.651563</td>\n",
       "      <td>1294.088000</td>\n",
       "      <td>2912.170591</td>\n",
       "      <td>0.000000</td>\n",
       "      <td>Happy</td>\n",
       "    </tr>\n",
       "    <tr>\n",
       "      <th>4</th>\n",
       "      <td>5</td>\n",
       "      <td>93.473578</td>\n",
       "      <td>431.444073</td>\n",
       "      <td>228.817661</td>\n",
       "      <td>0.014125</td>\n",
       "      <td>1.629813</td>\n",
       "      <td>834.168671</td>\n",
       "      <td>2306.635684</td>\n",
       "      <td>4616.595201</td>\n",
       "      <td>Happy</td>\n",
       "    </tr>\n",
       "    <tr>\n",
       "      <th>5</th>\n",
       "      <td>6</td>\n",
       "      <td>155.938598</td>\n",
       "      <td>443.155340</td>\n",
       "      <td>254.547109</td>\n",
       "      <td>0.018912</td>\n",
       "      <td>2.021000</td>\n",
       "      <td>1117.555325</td>\n",
       "      <td>3208.370833</td>\n",
       "      <td>0.000000</td>\n",
       "      <td>Happy</td>\n",
       "    </tr>\n",
       "    <tr>\n",
       "      <th>6</th>\n",
       "      <td>7</td>\n",
       "      <td>231.730777</td>\n",
       "      <td>480.429907</td>\n",
       "      <td>345.115637</td>\n",
       "      <td>0.020347</td>\n",
       "      <td>1.890625</td>\n",
       "      <td>834.624864</td>\n",
       "      <td>2532.988369</td>\n",
       "      <td>0.000000</td>\n",
       "      <td>Happy</td>\n",
       "    </tr>\n",
       "    <tr>\n",
       "      <th>7</th>\n",
       "      <td>8</td>\n",
       "      <td>142.991423</td>\n",
       "      <td>303.030825</td>\n",
       "      <td>237.587033</td>\n",
       "      <td>0.045782</td>\n",
       "      <td>1.760188</td>\n",
       "      <td>387.165614</td>\n",
       "      <td>2840.693438</td>\n",
       "      <td>4490.988124</td>\n",
       "      <td>Happy</td>\n",
       "    </tr>\n",
       "    <tr>\n",
       "      <th>8</th>\n",
       "      <td>9</td>\n",
       "      <td>76.194968</td>\n",
       "      <td>258.584773</td>\n",
       "      <td>198.690040</td>\n",
       "      <td>0.016199</td>\n",
       "      <td>1.564625</td>\n",
       "      <td>324.922925</td>\n",
       "      <td>2078.094377</td>\n",
       "      <td>3991.275354</td>\n",
       "      <td>Happy</td>\n",
       "    </tr>\n",
       "    <tr>\n",
       "      <th>9</th>\n",
       "      <td>10</td>\n",
       "      <td>215.282882</td>\n",
       "      <td>297.410103</td>\n",
       "      <td>253.092477</td>\n",
       "      <td>0.016345</td>\n",
       "      <td>1.108250</td>\n",
       "      <td>1447.367772</td>\n",
       "      <td>2167.261830</td>\n",
       "      <td>4232.900906</td>\n",
       "      <td>Happy</td>\n",
       "    </tr>\n",
       "  </tbody>\n",
       "</table>\n",
       "</div>"
      ],
      "text/plain": [
       "   sampleNumber    pitchMin    pitchMax    pitchAve    energy  duration  \\\n",
       "0             1  173.212996  445.069307  259.748404  0.035414  1.825438   \n",
       "1             2  119.353521  238.914405  183.543182  0.043517  1.738500   \n",
       "2             3  170.807263  342.086479  295.447784  0.022256  1.477688   \n",
       "3             4  211.864117  525.138903  286.691254  0.045537  1.651563   \n",
       "4             5   93.473578  431.444073  228.817661  0.014125  1.629813   \n",
       "5             6  155.938598  443.155340  254.547109  0.018912  2.021000   \n",
       "6             7  231.730777  480.429907  345.115637  0.020347  1.890625   \n",
       "7             8  142.991423  303.030825  237.587033  0.045782  1.760188   \n",
       "8             9   76.194968  258.584773  198.690040  0.016199  1.564625   \n",
       "9            10  215.282882  297.410103  253.092477  0.016345  1.108250   \n",
       "\n",
       "            f0           f1           f2 emotion  \n",
       "0  1879.317977  4268.143612     0.000000   Happy  \n",
       "1   900.280890  2731.501674  4608.552306   Happy  \n",
       "2  1525.397375  2802.672926     0.000000   Happy  \n",
       "3  1294.088000  2912.170591     0.000000   Happy  \n",
       "4   834.168671  2306.635684  4616.595201   Happy  \n",
       "5  1117.555325  3208.370833     0.000000   Happy  \n",
       "6   834.624864  2532.988369     0.000000   Happy  \n",
       "7   387.165614  2840.693438  4490.988124   Happy  \n",
       "8   324.922925  2078.094377  3991.275354   Happy  \n",
       "9  1447.367772  2167.261830  4232.900906   Happy  "
      ]
     },
     "execution_count": 3,
     "metadata": {},
     "output_type": "execute_result"
    }
   ],
   "source": [
    "emotions[:10]"
   ]
  },
  {
   "cell_type": "code",
   "execution_count": 4,
   "metadata": {},
   "outputs": [
    {
     "name": "stdout",
     "output_type": "stream",
     "text": [
      "0    True\n",
      "1    True\n",
      "2    True\n",
      "3    True\n",
      "4    True\n",
      "Name: emotion, dtype: bool\n"
     ]
    }
   ],
   "source": [
    "X = emotions.drop('emotion',axis=1)\n",
    "y = emotions['emotion'] == \"Happy\"\n",
    "\n",
    "print(y[:5])\n",
    "# Only detect sad or happy"
   ]
  },
  {
   "cell_type": "markdown",
   "metadata": {},
   "source": [
    "## Use SGD Classifier and Perform Cross Validation\n",
    "Train a binary classifier (i.e., Stochastic Gradient Descent or Logistic Regression) of a particular emotion using any of the algorithms that are applicable. "
   ]
  },
  {
   "cell_type": "code",
   "execution_count": 5,
   "metadata": {},
   "outputs": [],
   "source": [
    "from sklearn.linear_model import SGDClassifier\n",
    "sgd = SGDClassifier(random_state=42)"
   ]
  },
  {
   "cell_type": "markdown",
   "metadata": {},
   "source": [
    "**Get Cross val accuray**\n",
    "\n",
    "***Standard Cross Validation***"
   ]
  },
  {
   "cell_type": "code",
   "execution_count": 6,
   "metadata": {},
   "outputs": [
    {
     "name": "stdout",
     "output_type": "stream",
     "text": [
      "Scores: [0.84571429 0.87428571 0.85714286 0.85714286 0.85714286]\n",
      "Average score: 0.858\n"
     ]
    }
   ],
   "source": [
    "# Standard Cross Validation\n",
    "\n",
    "from sklearn.model_selection import cross_val_score\n",
    "score_standard = cross_val_score(sgd, X, y, cv=5)\n",
    "print(\"Scores: {}\".format(score_standard))\n",
    "print(\"Average score: {:.3f}\".format(score_standard.mean()))"
   ]
  },
  {
   "cell_type": "markdown",
   "metadata": {
    "collapsed": true
   },
   "source": [
    "***Stratified Cross-Validation***"
   ]
  },
  {
   "cell_type": "code",
   "execution_count": 7,
   "metadata": {},
   "outputs": [
    {
     "name": "stdout",
     "output_type": "stream",
     "text": [
      "Cross-validation scores: [0.84642857 0.85       0.86285714 0.77428571 0.86      ]\n",
      "Average score: 0.839\n"
     ]
    }
   ],
   "source": [
    "from sklearn.model_selection import KFold\n",
    "scores = cross_val_score(sgd, X, y, cv=KFold(n_splits = 5, shuffle=True, random_state=0))\n",
    "print(\"Cross-validation scores: {}\".format(scores))\n",
    "print(\"Average score: {:.3f}\".format(scores.mean()))"
   ]
  },
  {
   "cell_type": "markdown",
   "metadata": {},
   "source": [
    "***Shuffle Splt Validation***"
   ]
  },
  {
   "cell_type": "code",
   "execution_count": 8,
   "metadata": {},
   "outputs": [
    {
     "name": "stdout",
     "output_type": "stream",
     "text": [
      "Cross-validation scors:\n",
      " [0.85942857 0.82142857 0.148      0.67228571 0.87371429 0.84142857\n",
      " 0.85428571 0.85057143 0.15142857 0.836     ]\n",
      "Average score: 0.69\n"
     ]
    }
   ],
   "source": [
    "from sklearn.model_selection import ShuffleSplit\n",
    "scores = cross_val_score(sgd, X, y, cv=ShuffleSplit(test_size=.5, train_size=.5, n_splits=10))\n",
    "print(\"Cross-validation scors:\\n {}\".format(scores))\n",
    "print(\"Average score: {:.2f}\".format(scores.mean()))"
   ]
  },
  {
   "cell_type": "markdown",
   "metadata": {},
   "source": [
    "## Analysis"
   ]
  },
  {
   "cell_type": "markdown",
   "metadata": {},
   "source": [
    "### Plot Precision and Recall"
   ]
  },
  {
   "cell_type": "code",
   "execution_count": 9,
   "metadata": {},
   "outputs": [
    {
     "name": "stdout",
     "output_type": "stream",
     "text": [
      "=-=-=-=-=-=-=-=-=-=-=-=-=-=-=-=-=-=-=-=-=-=-=-=-=-=\n",
      "PRECISION VS RECALL\n",
      "=-=-=-=-=-=-=-=-=-=-=-=-=-=-=-=-=-=-=-=-=-=-=-=-=-=\n"
     ]
    },
    {
     "data": {
      "text/plain": [
       "<Figure size 640x480 with 1 Axes>"
      ]
     },
     "metadata": {},
     "output_type": "display_data"
    },
    {
     "name": "stdout",
     "output_type": "stream",
     "text": [
      "=-=-=-=-=-=-=-=-=-=-=-=-=-=-=-=-=-=-=-=-=-=-=-=-=-=\n",
      "PRECISION VS RECALL as a function of THRESHOLD\n",
      "=-=-=-=-=-=-=-=-=-=-=-=-=-=-=-=-=-=-=-=-=-=-=-=-=-=\n"
     ]
    },
    {
     "data": {
      "text/plain": [
       "<Figure size 640x480 with 1 Axes>"
      ]
     },
     "metadata": {},
     "output_type": "display_data"
    },
    {
     "name": "stdout",
     "output_type": "stream",
     "text": [
      "=-=-=-=-=-=-=-=-=-=-=-=-=-=-=-=-=-=-=-=-=-=-=-=-=-=\n",
      "CONFUSION MATRIX AND GRAPH\n",
      "=-=-=-=-=-=-=-=-=-=-=-=-=-=-=-=-=-=-=-=-=-=-=-=-=-=\n"
     ]
    },
    {
     "data": {
      "text/plain": [
       "<Figure size 480x480 with 1 Axes>"
      ]
     },
     "metadata": {},
     "output_type": "display_data"
    },
    {
     "name": "stdout",
     "output_type": "stream",
     "text": [
      "             precision    recall  f1-score   support\n",
      "\n",
      "      Happy       0.86      0.60      0.70      6000\n",
      "  Not Happy       0.14      0.41      0.21      1000\n",
      "\n",
      "avg / total       0.76      0.57      0.63      7000\n",
      "\n",
      "=-=-=-=-=-=-=-=-=-=-=-=-=-=-=-=-=-=-=-=-=-=-=-=-=-=\n",
      "ROC CURVE\n",
      "=-=-=-=-=-=-=-=-=-=-=-=-=-=-=-=-=-=-=-=-=-=-=-=-=-=\n"
     ]
    },
    {
     "data": {
      "text/plain": [
       "<Figure size 640x480 with 1 Axes>"
      ]
     },
     "metadata": {},
     "output_type": "display_data"
    }
   ],
   "source": [
    "# Precision and Recall\n",
    "import matplotlib\n",
    "import matplotlib.pyplot as plt\n",
    "from sklearn.model_selection import cross_val_predict\n",
    "y_scores = cross_val_predict(sgd, X, y, cv=100, method=\"decision_function\")\n",
    "\n",
    "print(\n",
    "\"\"\"=-=-=-=-=-=-=-=-=-=-=-=-=-=-=-=-=-=-=-=-=-=-=-=-=-=\n",
    "PRECISION VS RECALL\n",
    "=-=-=-=-=-=-=-=-=-=-=-=-=-=-=-=-=-=-=-=-=-=-=-=-=-=\"\"\")\n",
    "from sklearn.metrics import precision_recall_curve\n",
    "precisions, recalls, thresholds = precision_recall_curve(y, y_scores)\n",
    "def plot_precision_recall(precisions, recall):\n",
    "    plt.plot(recall,precisions,\"b-\")\n",
    "    plt.xlabel(\"Recall\")\n",
    "    plt.ylabel(\"Precision\")\n",
    "    plt.xlim([0,1])\n",
    "    plt.ylim([0,1])\n",
    "    \n",
    "plot_precision_recall(precisions, recalls)\n",
    "plt.show()\n",
    "print(\n",
    "\"\"\"=-=-=-=-=-=-=-=-=-=-=-=-=-=-=-=-=-=-=-=-=-=-=-=-=-=\n",
    "PRECISION VS RECALL as a function of THRESHOLD\n",
    "=-=-=-=-=-=-=-=-=-=-=-=-=-=-=-=-=-=-=-=-=-=-=-=-=-=\"\"\")\n",
    "def plot_precision_recall_vs_threshold(precisions, recall, thresholds):\n",
    "    plt.plot(thresholds,precisions[:-1],\"b--\",label=\"Precision\")\n",
    "    plt.plot(thresholds,recalls[:-1],\"g-\",label=\"Recall\")\n",
    "    plt.xlabel(\"Threshold\")\n",
    "    plt.legend(loc=\"center left\")\n",
    "    plt.ylim([0,1])\n",
    "plot_precision_recall_vs_threshold(precisions, recalls, thresholds)\n",
    "plt.show()\n",
    "\n",
    "print(\n",
    "\"\"\"=-=-=-=-=-=-=-=-=-=-=-=-=-=-=-=-=-=-=-=-=-=-=-=-=-=\n",
    "CONFUSION MATRIX AND GRAPH\n",
    "=-=-=-=-=-=-=-=-=-=-=-=-=-=-=-=-=-=-=-=-=-=-=-=-=-=\"\"\")\n",
    "from sklearn.metrics import classification_report\n",
    "y_pred = cross_val_predict(sgd, X, y, cv=3)\n",
    "\n",
    "from sklearn.metrics import confusion_matrix\n",
    "conf_mx = confusion_matrix(y, y_pred)\n",
    "plt.matshow(conf_mx,cmap=plt.cm.gray)\n",
    "plt.show()\n",
    "print(classification_report(y, y_pred, target_names=[\"Happy\",\"Not Happy\"], digits=2))\n",
    "\n",
    "print(\n",
    "\"\"\"=-=-=-=-=-=-=-=-=-=-=-=-=-=-=-=-=-=-=-=-=-=-=-=-=-=\n",
    "ROC CURVE\n",
    "=-=-=-=-=-=-=-=-=-=-=-=-=-=-=-=-=-=-=-=-=-=-=-=-=-=\"\"\")\n",
    "from sklearn.metrics import roc_curve\n",
    "fpr, tpr, thresholds = roc_curve(y, y_scores)\n",
    "def plot_roc_curve(fpr, tpr, label=None):\n",
    "    plt.plot(fpr, tpr, linewidth=2, label=label)\n",
    "    plt.plot([0,1],[0,1],'k--')\n",
    "    plt.axis([0,1,0,1])\n",
    "    plt.xlabel('False Positive Rate')\n",
    "    plt.ylabel('True Positive Rate')\n",
    "plot_roc_curve(fpr, tpr)\n",
    "plt.show()"
   ]
  },
  {
   "cell_type": "markdown",
   "metadata": {},
   "source": [
    "**Train another classifier (RANDOM FOREST)**\n",
    "and compare with SGDClassfier"
   ]
  },
  {
   "cell_type": "code",
   "execution_count": 10,
   "metadata": {},
   "outputs": [
    {
     "data": {
      "image/png": "[encoded data removed]",
      "text/plain": [
       "<Figure size 432x288 with 1 Axes>"
      ]
     },
     "metadata": {},
     "output_type": "display_data"
    },
    {
     "name": "stdout",
     "output_type": "stream",
     "text": [
      "0.6282995\n",
      "0.967477\n"
     ]
    }
   ],
   "source": [
    "from sklearn.ensemble import RandomForestClassifier\n",
    "forest_clf = RandomForestClassifier()\n",
    "y_probas_forest = cross_val_predict(forest_clf, X, y,\n",
    "                                 cv=42,method=\"predict_proba\")\n",
    "y_scores_forest = y_probas_forest[:, 1]\n",
    "fpr_forest, tpr_forest, thresholds_forest = roc_curve(y,y_scores_forest)\n",
    "\n",
    "plt.plot(fpr, tpr, \"b:\", label =\"SGD Classifier\")\n",
    "plot_roc_curve(fpr_forest, tpr_forest, \"Random Forest\")\n",
    "plt.legend(loc=\"lower right\")\n",
    "plt.show()\n",
    "\n",
    "from sklearn.metrics import roc_auc_score\n",
    "print(roc_auc_score(y, y_scores))\n",
    "from sklearn.metrics import roc_auc_score\n",
    "print(roc_auc_score(y, y_scores_forest))"
   ]
  },
  {
   "cell_type": "markdown",
   "metadata": {},
   "source": [
    "# 2. Multiclass Classificaiton\n",
    "\n",
    "1. Train one of these inherently binary classifiers (i.e., Stochastic Gradient Descent or Logistic Regression) on the training set using the original target labels. Then, predict using a particular instance. \n",
    "2. Show the decision scores of the 7 binary classifiers. Verify that it is indeed the displayed class.\n",
    "3. Force the binary classifier to use a One-vs-One strategy. Both classifiers inherently use a One-vs-All strategy.\n",
    "4. Train a KNN classifier, which is inherently multiclass, on the training set again using the original target labels. List the probabilities that the classifier assigned to each instance for each class.  \n",
    "5. Evaluate the classifier's accuracy using cross validation.\n",
    "6. Show the confusion matrix table and graph."
   ]
  },
  {
   "cell_type": "code",
   "execution_count": 11,
   "metadata": {},
   "outputs": [
    {
     "data": {
      "text/plain": [
       "array(['Happy'], dtype='<U8')"
      ]
     },
     "execution_count": 11,
     "metadata": {},
     "output_type": "execute_result"
    }
   ],
   "source": [
    "from sklearn.linear_model import SGDClassifier\n",
    "sgd_multiclass = SGDClassifier(random_state=100)\n",
    "\n",
    "# Override variable y with original labels.\n",
    "X_multiclass = emotions.drop('emotion',axis=1)\n",
    "y_multiclass = emotions['emotion']\n",
    "#print(y_multiclass[:10]) #print actual labels\n",
    "sgd_multiclass.fit(X_multiclass, y_multiclass)\n",
    "#sgd_multiclass..decision_function([some_digit])(X_train)\n",
    "sgd_multiclass.predict(X_multiclass[:1])"
   ]
  },
  {
   "cell_type": "code",
   "execution_count": 12,
   "metadata": {},
   "outputs": [
    {
     "name": "stdout",
     "output_type": "stream",
     "text": [
      "[[ -5946346.24165149 -11115096.88874598  -4017221.51503094\n",
      "    8257636.6133046  -20155084.28813598   -791301.76858202\n",
      "   -9841648.97323252]]\n"
     ]
    }
   ],
   "source": [
    "print(sgd_multiclass.decision_function(X[:1]))"
   ]
  },
  {
   "cell_type": "code",
   "execution_count": 13,
   "metadata": {},
   "outputs": [
    {
     "data": {
      "text/plain": [
       "array(['Happy', 'Sad', 'Happy', 'Happy', 'Sad', 'Happy', 'Surprise',\n",
       "       'Sad', 'Sad', 'Sad'], dtype=object)"
      ]
     },
     "execution_count": 13,
     "metadata": {},
     "output_type": "execute_result"
    }
   ],
   "source": [
    "from sklearn.multiclass import OneVsOneClassifier\n",
    "ovo_clf = OneVsOneClassifier(sgd_multiclass)\n",
    "ovo_clf.fit(X_multiclass, y_multiclass)\n",
    "ovo_clf.predict(X_multiclass[:10])"
   ]
  },
  {
   "cell_type": "code",
   "execution_count": 14,
   "metadata": {},
   "outputs": [
    {
     "data": {
      "text/plain": [
       "array([[0., 0., 0., 1., 0., 0., 0.],\n",
       "       [0., 0., 0., 1., 0., 0., 0.],\n",
       "       [0., 0., 0., 1., 0., 0., 0.]])"
      ]
     },
     "execution_count": 14,
     "metadata": {},
     "output_type": "execute_result"
    }
   ],
   "source": [
    "from sklearn.neighbors import KNeighborsClassifier\n",
    "knn = KNeighborsClassifier(n_neighbors=1)\n",
    "knn.fit(X_multiclass, y_multiclass)\n",
    "knn.predict_proba(X[:3])"
   ]
  },
  {
   "cell_type": "code",
   "execution_count": 15,
   "metadata": {},
   "outputs": [
    {
     "name": "stdout",
     "output_type": "stream",
     "text": [
      "SGD CV SCORE: [0.18571429 0.26       0.20428571 0.14857143 0.18285714]\n",
      "KNN CV SCORE: [0.54357143 0.53857143 0.61714286 0.50357143 0.20071429]\n"
     ]
    }
   ],
   "source": [
    "from sklearn.model_selection import cross_val_score\n",
    "scores = cross_val_score(sgd, X_multiclass, y_multiclass, cv=5, scoring=\"accuracy\")\n",
    "print(\"SGD CV SCORE: {}\".format(scores))\n",
    "from sklearn.model_selection import cross_val_score\n",
    "scores = cross_val_score(knn, X_multiclass, y_multiclass, cv=5, scoring=\"accuracy\")\n",
    "print(\"KNN CV SCORE: {}\".format(scores))"
   ]
  },
  {
   "cell_type": "code",
   "execution_count": 16,
   "metadata": {},
   "outputs": [
    {
     "name": "stdout",
     "output_type": "stream",
     "text": [
      "SGD\n",
      "             precision    recall  f1-score   support\n",
      "\n",
      "      Angry  0.1573033708 0.1680000000 0.1624758221      1000\n",
      "    Disgust  0.1659147870 0.3310000000 0.2210350584      1000\n",
      "       Fear  0.2925170068 0.0430000000 0.0749782040      1000\n",
      "      Happy  0.1171875000 0.0150000000 0.0265957447      1000\n",
      "    Neutral  0.3702857143 0.6480000000 0.4712727273      1000\n",
      "        Sad  0.0990783410 0.0430000000 0.0599721060      1000\n",
      "   Surprise  0.2523680650 0.3730000000 0.3010492333      1000\n",
      "\n",
      "avg / total  0.2078078264 0.2315714286 0.1881969851      7000\n",
      "\n"
     ]
    },
    {
     "data": {
      "image/png": "[encoded data removed]",
      "text/plain": [
       "<Figure size 288x288 with 1 Axes>"
      ]
     },
     "metadata": {},
     "output_type": "display_data"
    },
    {
     "name": "stdout",
     "output_type": "stream",
     "text": [
      "KNN\n",
      "             precision    recall  f1-score   support\n",
      "\n",
      "      Angry  0.5079928952 0.2860000000 0.3659628919      1000\n",
      "    Disgust  0.7071129707 0.3380000000 0.4573748309      1000\n",
      "       Fear  0.4488017429 0.2060000000 0.2823851953      1000\n",
      "      Happy  0.2742653606 0.6160000000 0.3795440542      1000\n",
      "    Neutral  0.2937249666 0.6600000000 0.4065291038      1000\n",
      "        Sad  0.5919661734 0.2800000000 0.3801765105      1000\n",
      "   Surprise  0.5636704120 0.3010000000 0.3924380704      1000\n",
      "\n",
      "avg / total  0.4839335031 0.3838571429 0.3806300939      7000\n",
      "\n"
     ]
    },
    {
     "data": {
      "image/png": "[encoded data removed]",
      "text/plain": [
       "<Figure size 288x288 with 1 Axes>"
      ]
     },
     "metadata": {},
     "output_type": "display_data"
    }
   ],
   "source": [
    "from sklearn.metrics import confusion_matrix\n",
    "print(\"SGD\")\n",
    "y_multiclass_pred = cross_val_predict(ovo_clf, X_multiclass, y_multiclass, cv=3)\n",
    "print(classification_report(y_multiclass, y_multiclass_pred, digits=10))\n",
    "conf_mx = confusion_matrix(y_multiclass, y_multiclass_pred)\n",
    "plt.matshow(conf_mx,cmap=plt.cm.gray)\n",
    "plt.show()\n",
    "\n",
    "print(\"KNN\")\n",
    "y_multiclass_pred = cross_val_predict(knn, X_multiclass, y_multiclass, cv=3)\n",
    "print(classification_report(y_multiclass, y_multiclass_pred, digits=10))\n",
    "conf_mx = confusion_matrix(y_multiclass, y_multiclass_pred)\n",
    "plt.matshow(conf_mx,cmap=plt.cm.gray)\n",
    "plt.show()"
   ]
  },
  {
   "cell_type": "markdown",
   "metadata": {
    "collapsed": true
   },
   "source": [
    "#### Multilabel Classification\n",
    "1. Create a multilabel array containing two target labels for each instance: (1) Positive or Negative (2) original target label\n",
    "2. Train a KNN classifier on the training set using the multilabel target array.\n",
    "3. Make a prediction on the test set. \n",
    "3. Show the confusion matrix table and graph. "
   ]
  },
  {
   "cell_type": "code",
   "execution_count": 31,
   "metadata": {},
   "outputs": [
    {
     "data": {
      "text/plain": [
       "array([['Happy, Positive'],\n",
       "       ['Happy, Positive'],\n",
       "       ['Happy, Positive'],\n",
       "       ['Happy, Positive'],\n",
       "       ['Happy, Positive'],\n",
       "       ['Happy, Positive'],\n",
       "       ['Happy, Positive'],\n",
       "       ['Happy, Positive'],\n",
       "       ['Happy, Positive'],\n",
       "       ['Happy, Positive']], dtype=object)"
      ]
     },
     "execution_count": 31,
     "metadata": {},
     "output_type": "execute_result"
    }
   ],
   "source": [
    "import numpy as np\n",
    "#dat1 = pd.DataFrame({'positive': [9,5]})\n",
    "\n",
    "y_p = ((emotions[\"emotion\"] == \"Happy\") | (emotions[\"emotion\"] == \"Surprise\") | (emotions[\"emotion\"] == \"Neutral\")).map(lambda x: \"Positive\" if x else \"Negative\")\n",
    "y_multilabel = np.c_[emotions[\"emotion\"]+\", \"+ y_p]\n",
    "y_multilabel[:10]"
   ]
  },
  {
   "cell_type": "code",
   "execution_count": 41,
   "metadata": {},
   "outputs": [
    {
     "data": {
      "text/plain": [
       "array([[0., 0., 0., 1., 0., 0., 0.],\n",
       "       [0., 0., 0., 1., 0., 0., 0.],\n",
       "       [0., 0., 0., 1., 0., 0., 0.]])"
      ]
     },
     "execution_count": 41,
     "metadata": {},
     "output_type": "execute_result"
    }
   ],
   "source": [
    "from sklearn.neighbors import KNeighborsClassifier\n",
    "knn = KNeighborsClassifier(n_neighbors=2)\n",
    "knn.fit(X, y_multi)\n",
    "knn.predict_proba(X[:3])"
   ]
  },
  {
   "cell_type": "code",
   "execution_count": 43,
   "metadata": {},
   "outputs": [
    {
     "name": "stdout",
     "output_type": "stream",
     "text": [
      "                    precision    recall  f1-score   support\n",
      "\n",
      "   Angry, Negative        0.4       0.6       0.5      1000\n",
      " Disgust, Negative        0.5       0.7       0.6      1000\n",
      "    Fear, Negative        0.4       0.4       0.4      1000\n",
      "   Happy, Positive        0.5       0.7       0.6      1000\n",
      " Neutral, Positive        0.5       0.5       0.5      1000\n",
      "     Sad, Negative        0.6       0.2       0.3      1000\n",
      "Surprise, Positive        0.6       0.3       0.4      1000\n",
      "\n",
      "       avg / total        0.5       0.5       0.5      7000\n",
      "\n"
     ]
    }
   ],
   "source": [
    "knn.predict(X[:3])\n",
    "y_train_pred = cross_val_predict(knn, X, y_multilabel, cv=10)\n",
    "print(classification_report(y_multilabel, y_train_pred, digits=1,label=[\"a\",\"b\"]))"
   ]
  },
  {
   "cell_type": "code",
   "execution_count": 39,
   "metadata": {},
   "outputs": [
    {
     "data": {
      "image/png": "[encoded data removed]",
      "text/plain": [
       "<Figure size 288x288 with 1 Axes>"
      ]
     },
     "metadata": {},
     "output_type": "display_data"
    }
   ],
   "source": [
    "from sklearn.metrics import confusion_matrix\n",
    "\n",
    "conf_mx = confusion_matrix(emotions['emotion'], y_train_pred)\n",
    "plt.matshow(conf_mx, cmap=plt.cm.gray)\n",
    "plt.show()"
   ]
  },
  {
   "cell_type": "code",
   "execution_count": null,
   "metadata": {},
   "outputs": [],
   "source": []
  }
 ],
 "metadata": {
  "kernelspec": {
   "display_name": "Python 3",
   "language": "python",
   "name": "python3"
  },
  "language_info": {
   "codemirror_mode": {
    "name": "ipython",
    "version": 3
   },
   "file_extension": ".py",
   "mimetype": "text/x-python",
   "name": "python",
   "nbconvert_exporter": "python",
   "pygments_lexer": "ipython3",
   "version": "3.7.0"
  }
 },
 "nbformat": 4,
 "nbformat_minor": 2
}
